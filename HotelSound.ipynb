{
 "cells": [
  {
   "cell_type": "markdown",
   "metadata": {},
   "source": [
    "# Hotel EDA\n",
    "Data from Kaggle: https://www.kaggle.com/datafiniti/hotel-reviews/discussion/33872"
   ]
  },
  {
   "cell_type": "code",
   "execution_count": 1,
   "metadata": {
    "collapsed": true
   },
   "outputs": [],
   "source": [
    "#import pandas/np/plt\n",
    "import pandas as pd\n",
    "import numpy as np\n",
    "import matplotlib.pyplot as plt\n",
    "import seaborn as sns\n",
    "\n",
    "%matplotlib inline"
   ]
  },
  {
   "cell_type": "code",
   "execution_count": 3,
   "metadata": {},
   "outputs": [
    {
     "data": {
      "text/html": [
       "<div>\n",
       "<style>\n",
       "    .dataframe thead tr:only-child th {\n",
       "        text-align: right;\n",
       "    }\n",
       "\n",
       "    .dataframe thead th {\n",
       "        text-align: left;\n",
       "    }\n",
       "\n",
       "    .dataframe tbody tr th {\n",
       "        vertical-align: top;\n",
       "    }\n",
       "</style>\n",
       "<table border=\"1\" class=\"dataframe\">\n",
       "  <thead>\n",
       "    <tr style=\"text-align: right;\">\n",
       "      <th></th>\n",
       "      <th>0</th>\n",
       "    </tr>\n",
       "  </thead>\n",
       "  <tbody>\n",
       "    <tr>\n",
       "      <th>address</th>\n",
       "      <td>Riviera San Nicol 11/a</td>\n",
       "    </tr>\n",
       "    <tr>\n",
       "      <th>categories</th>\n",
       "      <td>Hotels</td>\n",
       "    </tr>\n",
       "    <tr>\n",
       "      <th>city</th>\n",
       "      <td>Mableton</td>\n",
       "    </tr>\n",
       "    <tr>\n",
       "      <th>country</th>\n",
       "      <td>US</td>\n",
       "    </tr>\n",
       "    <tr>\n",
       "      <th>latitude</th>\n",
       "      <td>45.4216</td>\n",
       "    </tr>\n",
       "    <tr>\n",
       "      <th>longitude</th>\n",
       "      <td>12.3762</td>\n",
       "    </tr>\n",
       "    <tr>\n",
       "      <th>name</th>\n",
       "      <td>Hotel Russo Palace</td>\n",
       "    </tr>\n",
       "    <tr>\n",
       "      <th>postalCode</th>\n",
       "      <td>30126</td>\n",
       "    </tr>\n",
       "    <tr>\n",
       "      <th>province</th>\n",
       "      <td>GA</td>\n",
       "    </tr>\n",
       "    <tr>\n",
       "      <th>reviews.date</th>\n",
       "      <td>2013-09-22T00:00:00Z</td>\n",
       "    </tr>\n",
       "    <tr>\n",
       "      <th>reviews.dateAdded</th>\n",
       "      <td>2016-10-24T00:00:25Z</td>\n",
       "    </tr>\n",
       "    <tr>\n",
       "      <th>reviews.doRecommend</th>\n",
       "      <td>NaN</td>\n",
       "    </tr>\n",
       "    <tr>\n",
       "      <th>reviews.id</th>\n",
       "      <td>NaN</td>\n",
       "    </tr>\n",
       "    <tr>\n",
       "      <th>reviews.rating</th>\n",
       "      <td>4</td>\n",
       "    </tr>\n",
       "    <tr>\n",
       "      <th>reviews.text</th>\n",
       "      <td>Pleasant 10 min walk along the sea front to th...</td>\n",
       "    </tr>\n",
       "    <tr>\n",
       "      <th>reviews.title</th>\n",
       "      <td>Good location away from the crouds</td>\n",
       "    </tr>\n",
       "    <tr>\n",
       "      <th>reviews.userCity</th>\n",
       "      <td>NaN</td>\n",
       "    </tr>\n",
       "    <tr>\n",
       "      <th>reviews.username</th>\n",
       "      <td>Russ (kent)</td>\n",
       "    </tr>\n",
       "    <tr>\n",
       "      <th>reviews.userProvince</th>\n",
       "      <td>NaN</td>\n",
       "    </tr>\n",
       "  </tbody>\n",
       "</table>\n",
       "</div>"
      ],
      "text/plain": [
       "                                                                      0\n",
       "address                                          Riviera San Nicol 11/a\n",
       "categories                                                       Hotels\n",
       "city                                                           Mableton\n",
       "country                                                              US\n",
       "latitude                                                        45.4216\n",
       "longitude                                                       12.3762\n",
       "name                                                 Hotel Russo Palace\n",
       "postalCode                                                        30126\n",
       "province                                                             GA\n",
       "reviews.date                                       2013-09-22T00:00:00Z\n",
       "reviews.dateAdded                                  2016-10-24T00:00:25Z\n",
       "reviews.doRecommend                                                 NaN\n",
       "reviews.id                                                          NaN\n",
       "reviews.rating                                                        4\n",
       "reviews.text          Pleasant 10 min walk along the sea front to th...\n",
       "reviews.title                        Good location away from the crouds\n",
       "reviews.userCity                                                    NaN\n",
       "reviews.username                                            Russ (kent)\n",
       "reviews.userProvince                                                NaN"
      ]
     },
     "execution_count": 3,
     "metadata": {},
     "output_type": "execute_result"
    }
   ],
   "source": [
    "#bring csv into pandas\n",
    "file_path = \"2_data/hotel.csv\"\n",
    "df = pd.read_csv(file_path)\n",
    "df.head(1).T"
   ]
  },
  {
   "cell_type": "code",
   "execution_count": 4,
   "metadata": {
    "collapsed": true
   },
   "outputs": [],
   "source": [
    "#rename columns\n",
    "bad_names = [\"reviews.date\", \"reviews.rating\", \"reviews.text\", \"reviews.title\"]\n",
    "good_names = [\"date\", \"rating\", \"text\", \"title\"]\n",
    "df.rename(columns = dict(zip(bad_names, good_names)), inplace = True)"
   ]
  },
  {
   "cell_type": "code",
   "execution_count": 5,
   "metadata": {
    "collapsed": true
   },
   "outputs": [],
   "source": [
    "df = df[[\"latitude\", \"longitude\", \"name\", \"address\", \"postalCode\", \"categories\", \"city\", \"country\", \"date\", \"rating\", \"title\", \"text\"]]"
   ]
  },
  {
   "cell_type": "code",
   "execution_count": 6,
   "metadata": {},
   "outputs": [
    {
     "name": "stdout",
     "output_type": "stream",
     "text": [
      "(35912, 12)\n",
      "\n",
      "latitude        86\n",
      "longitude       86\n",
      "name             0\n",
      "address          0\n",
      "postalCode      55\n",
      "categories       0\n",
      "city             0\n",
      "country          0\n",
      "date           259\n",
      "rating         862\n",
      "title         1621\n",
      "text            22\n",
      "dtype: int64\n"
     ]
    }
   ],
   "source": [
    "#check out the data\n",
    "print(df.shape)\n",
    "print()\n",
    "print(df.isnull().sum())"
   ]
  },
  {
   "cell_type": "code",
   "execution_count": 7,
   "metadata": {},
   "outputs": [
    {
     "data": {
      "text/plain": [
       "5.0     12717\n",
       "4.0      9835\n",
       "3.0      5739\n",
       "1.0      3066\n",
       "2.0      2986\n",
       "0.0       337\n",
       "10.0      155\n",
       "9.0        73\n",
       "8.0        73\n",
       "7.0        26\n",
       "6.0        21\n",
       "Name: rating, dtype: int64"
      ]
     },
     "execution_count": 7,
     "metadata": {},
     "output_type": "execute_result"
    }
   ],
   "source": [
    "#round ratings\n",
    "df.dropna(subset = [\"rating\", \"text\"], inplace = True)\n",
    "df[\"rating\"] = df[\"rating\"].astype(float, inplace = True).round(0)\n",
    "df.rating.value_counts()"
   ]
  },
  {
   "cell_type": "code",
   "execution_count": 8,
   "metadata": {},
   "outputs": [
    {
     "data": {
      "text/plain": [
       "positive    22900\n",
       "negative    12128\n",
       "Name: experience, dtype: int64"
      ]
     },
     "execution_count": 8,
     "metadata": {},
     "output_type": "execute_result"
    }
   ],
   "source": [
    "#rate the experiences based on numbers\n",
    "def qualityRev(x):\n",
    "    if x <= 3:\n",
    "        return \"negative\"\n",
    "    if x > 3:\n",
    "        return \"positive\"\n",
    "    \n",
    "df[\"experience\"] = df[\"rating\"].apply(qualityRev)\n",
    "df[\"experience\"].value_counts()"
   ]
  },
  {
   "cell_type": "code",
   "execution_count": 9,
   "metadata": {},
   "outputs": [
    {
     "data": {
      "text/plain": [
       "0       2013-09-22 00:00:00\n",
       "1       2015-04-03 00:00:00\n",
       "2       2014-05-13 00:00:00\n",
       "3       2013-10-27 00:00:00\n",
       "4       2015-03-05 00:00:00\n",
       "5       2015-04-05 00:00:00\n",
       "6       2014-06-10 00:00:00\n",
       "7       2015-05-14 00:00:00\n",
       "8       2015-09-14 00:00:00\n",
       "9       2015-05-16 00:00:00\n",
       "10      2015-04-30 00:00:00\n",
       "11      2015-08-02 00:00:00\n",
       "12      2016-05-24 00:00:00\n",
       "13      2016-06-07 00:00:00\n",
       "14      2015-09-09 00:00:00\n",
       "15      2014-04-01 00:00:00\n",
       "16      2015-06-05 00:00:00\n",
       "17      2015-04-01 00:00:00\n",
       "18      2015-08-12 00:00:00\n",
       "19      2014-05-23 00:00:00\n",
       "20      2015-07-02 00:00:00\n",
       "21      2015-04-11 00:00:00\n",
       "22      2015-04-06 00:00:00\n",
       "23      2015-07-14 00:00:00\n",
       "24      2015-04-20 00:00:00\n",
       "25      2014-09-30 00:00:00\n",
       "26      2015-08-04 00:00:00\n",
       "27      2015-04-10 00:00:00\n",
       "28      2015-05-06 00:00:00\n",
       "29      2016-05-16 00:00:00\n",
       "                ...        \n",
       "35882   2015-10-21 00:00:00\n",
       "35883   2016-07-25 00:00:00\n",
       "35884   2011-05-04 20:15:22\n",
       "35885   2008-04-04 02:02:15\n",
       "35886   2016-06-20 00:00:00\n",
       "35887   2014-06-05 00:00:00\n",
       "35888   2016-06-08 00:00:00\n",
       "35889   2016-07-01 00:00:00\n",
       "35890   2016-07-31 00:00:00\n",
       "35891   2016-04-26 00:00:00\n",
       "35892   2016-07-22 00:00:00\n",
       "35893   2016-05-03 00:00:00\n",
       "35894   2012-03-03 00:00:00\n",
       "35895   2015-11-09 00:00:00\n",
       "35896   2015-09-05 00:00:00\n",
       "35897   2016-07-09 00:00:00\n",
       "35898   2012-10-20 00:00:00\n",
       "35899   2015-11-02 00:00:00\n",
       "35900   2013-03-19 00:00:00\n",
       "35901   2016-04-03 00:00:00\n",
       "35902   2016-08-01 00:00:00\n",
       "35903   2016-07-15 00:00:00\n",
       "35904   2013-12-17 00:00:00\n",
       "35905   2016-07-06 00:00:00\n",
       "35906   2016-05-02 00:00:00\n",
       "35907   2012-03-20 00:00:00\n",
       "35908   2012-03-12 00:00:00\n",
       "35909   2015-11-03 00:00:00\n",
       "35910                   NaT\n",
       "35911                   NaT\n",
       "Name: date, Length: 35028, dtype: datetime64[ns]"
      ]
     },
     "execution_count": 9,
     "metadata": {},
     "output_type": "execute_result"
    }
   ],
   "source": [
    "#fix date, not index bc of duplicates w/0 timestamp\n",
    "pd.to_datetime(df.date)"
   ]
  },
  {
   "cell_type": "markdown",
   "metadata": {},
   "source": [
    "## Frequency of noise complaints (in multiple languages)"
   ]
  },
  {
   "cell_type": "code",
   "execution_count": 10,
   "metadata": {},
   "outputs": [
    {
     "data": {
      "text/html": [
       "<div>\n",
       "<style>\n",
       "    .dataframe thead tr:only-child th {\n",
       "        text-align: right;\n",
       "    }\n",
       "\n",
       "    .dataframe thead th {\n",
       "        text-align: left;\n",
       "    }\n",
       "\n",
       "    .dataframe tbody tr th {\n",
       "        vertical-align: top;\n",
       "    }\n",
       "</style>\n",
       "<table border=\"1\" class=\"dataframe\">\n",
       "  <thead>\n",
       "    <tr style=\"text-align: right;\">\n",
       "      <th></th>\n",
       "      <th>soundR</th>\n",
       "      <th>noiseR</th>\n",
       "      <th>soundT</th>\n",
       "      <th>noiseT</th>\n",
       "      <th>musicR</th>\n",
       "      <th>musicT</th>\n",
       "    </tr>\n",
       "  </thead>\n",
       "  <tbody>\n",
       "    <tr>\n",
       "      <th>False</th>\n",
       "      <td>28678</td>\n",
       "      <td>34267</td>\n",
       "      <td>33370</td>\n",
       "      <td>34121</td>\n",
       "      <td>34911</td>\n",
       "      <td>34911</td>\n",
       "    </tr>\n",
       "    <tr>\n",
       "      <th>True</th>\n",
       "      <td>6350</td>\n",
       "      <td>761</td>\n",
       "      <td>786</td>\n",
       "      <td>35</td>\n",
       "      <td>117</td>\n",
       "      <td>117</td>\n",
       "    </tr>\n",
       "  </tbody>\n",
       "</table>\n",
       "</div>"
      ],
      "text/plain": [
       "       soundR  noiseR  soundT  noiseT  musicR  musicT\n",
       "False   28678   34267   33370   34121   34911   34911\n",
       "True     6350     761     786      35     117     117"
      ]
     },
     "execution_count": 10,
     "metadata": {},
     "output_type": "execute_result"
    }
   ],
   "source": [
    "#multilingual search for sound and noise\n",
    "soundLang = \"|\".join \\\n",
    "((\"sound\", #english\n",
    "  \"larm\", #german\n",
    "  \"sonar\", #spanish/castillan\n",
    "  \"shengyin\", #chinese/pinyin\n",
    "  \"geluid\",  #dutch\n",
    "  \"son\",  #french\n",
    "  \"som\", #portuguese\n",
    "  \"zvuk\", \"shum\")) #russian\n",
    "\n",
    "noiseLang = \"|\".join \\\n",
    "((\"noise\", #english\n",
    " \"klingen\", #german\n",
    " \"ruido\", #spanish/castillan\n",
    "  \"zaosheng\", #chinese\n",
    " \"lawaai\", #dutch\n",
    " \"bruit\", #french\n",
    " \"barulho\", #portuguese\n",
    "  \"shum\")) #russian\n",
    "\n",
    "musicLang = \"|\".join \\\n",
    "((\"music\", #english\n",
    " \"musik\", #german\n",
    " \"musica\", #spanish/castillan\n",
    "  \"yinyue\", #chinese\n",
    " \"muziek\", #dutch\n",
    " \"musique\", #french\n",
    " \"musica\", #portuguese\n",
    "  \"muzyka\")) #russian\n",
    "\n",
    "df[\"soundR\"] = df[\"text\"].str.contains(soundLang)\n",
    "df[\"noiseR\"] = df[\"text\"].str.contains(noiseLang)\n",
    "df[\"soundT\"] = df[\"title\"].str.contains(soundLang)\n",
    "df[\"noiseT\"] = df[\"title\"].str.contains(noiseLang)\n",
    "df[\"musicR\"] = df[\"text\"].str.contains(musicLang)\n",
    "df[\"musicT\"] = df[\"text\"].str.contains(musicLang)\n",
    "\n",
    "df[[\"soundR\", \"noiseR\", \"soundT\", \"noiseT\", \"musicR\", \"musicT\"]].apply(pd.Series.value_counts)"
   ]
  },
  {
   "cell_type": "code",
   "execution_count": 11,
   "metadata": {
    "collapsed": true
   },
   "outputs": [],
   "source": [
    "punctuation = ',?!.\\/#@\"><[]'\n",
    "\n",
    "def sonic(x):\n",
    "    list_of_words = x.split(\" \")\n",
    "    out_data = []\n",
    "    for word in list_of_words:\n",
    "        word = word.lower()\n",
    "        if word.strip(punctuation) in soundLang:\n",
    "            return \"sound\"\n",
    "        if word.strip(punctuation) in noiseLang:\n",
    "            return \"noise\"\n",
    "        if word.strip(punctuation) in musicLang:\n",
    "            return \"music\"\n",
    "        else:\n",
    "            return \"none\"\n",
    "df[\"sonic\"] = df[\"text\"].astype(str).apply(sonic)\n",
    "df[\"sonicTitle\"] = df[\"title\"].astype(str).apply(sonic)"
   ]
  },
  {
   "cell_type": "code",
   "execution_count": 12,
   "metadata": {
    "collapsed": true
   },
   "outputs": [],
   "source": [
    "#sentiments around sound/noise\n",
    "from textblob import TextBlob\n",
    "\n",
    "def subjectivityAnalysis(x):\n",
    "    analysis = TextBlob(x)\n",
    "    if analysis.sentiment.subjectivity > .5:\n",
    "        return \"subjective\"\n",
    "    if analysis.sentiment.subjectivity == .5:\n",
    "        return \"unknown\"\n",
    "    else:\n",
    "        return \"objective\"\n",
    "\n",
    "def polarityAnalysis(x):\n",
    "    analysis = TextBlob(x)\n",
    "    if analysis.sentiment.polarity > 0:\n",
    "        return \"positive\"\n",
    "    if analysis.sentiment.polarity == 0: \n",
    "        return \"neutral\"\n",
    "    if analysis.sentiment.polarity < 0:\n",
    "        return \"negative\"\n",
    "    \n",
    "\n",
    "df[\"subjectivity\"] = df[\"text\"].apply(subjectivityAnalysis)\n",
    "df[\"polarity\"] = df[\"text\"].apply(polarityAnalysis)"
   ]
  },
  {
   "cell_type": "code",
   "execution_count": 13,
   "metadata": {},
   "outputs": [
    {
     "data": {
      "text/plain": [
       "<matplotlib.axes._subplots.AxesSubplot at 0x22b4b7c7320>"
      ]
     },
     "execution_count": 13,
     "metadata": {},
     "output_type": "execute_result"
    },
    {
     "data": {
      "image/png": "[encoded data removed]",
      "text/plain": [
       "<matplotlib.figure.Figure at 0x22b4b84d320>"
      ]
     },
     "metadata": {},
     "output_type": "display_data"
    }
   ],
   "source": [
    "sns.countplot(y = \"experience\", hue = \"polarity\", data = df)"
   ]
  },
  {
   "cell_type": "code",
   "execution_count": 14,
   "metadata": {},
   "outputs": [
    {
     "data": {
      "text/plain": [
       "<matplotlib.text.Text at 0x22b4b755eb8>"
      ]
     },
     "execution_count": 14,
     "metadata": {},
     "output_type": "execute_result"
    },
    {
     "data": {
      "image/png": "[encoded data removed]",
      "text/plain": [
       "<matplotlib.figure.Figure at 0x22b4b7e7208>"
      ]
     },
     "metadata": {},
     "output_type": "display_data"
    }
   ],
   "source": [
    "sns.countplot(y = \"experience\", hue = \"sonic\", data = df)\n",
    "plt.title(\"Sound and Noise in Experience\")"
   ]
  },
  {
   "cell_type": "code",
   "execution_count": 15,
   "metadata": {},
   "outputs": [
    {
     "data": {
      "image/png": "[encoded data removed]",
      "text/plain": [
       "<matplotlib.figure.Figure at 0x22b4b7657b8>"
      ]
     },
     "metadata": {},
     "output_type": "display_data"
    }
   ],
   "source": [
    "#Donut Plot\n",
    "\n",
    "group_names=[\"Negative\", \"Positive\"]\n",
    "group_size=[12128, 22900]\n",
    "subgroup_names=[\"Sound\", \"Noise\", \"None\"]\n",
    "subgroup_size=[6434, 821, 30649]\n",
    " \n",
    "a, b = [plt.cm.Blues, plt.cm.Reds]\n",
    " \n",
    "fig, ax = plt.subplots()\n",
    "ax.axis('equal')\n",
    "mypie, _ = ax.pie(group_size, radius=3, labels=group_names, colors=[b(0.8), a(0.8)] )\n",
    "plt.setp( mypie, width=1.3, edgecolor='white')\n",
    " \n",
    "# Second Ring (Inside)\n",
    "mypie2, _ = ax.pie(subgroup_size, radius=2.3-0.3, labels=subgroup_names, labeldistance=0.7, \n",
    "                   colors=[b(0.6), b(0.4), a(0.6), a(0.4)])\n",
    "plt.setp( mypie2, width=1.0, edgecolor='white')\n",
    "plt.margins(0,0)\n",
    "\n",
    "# show it\n",
    "plt.show()"
   ]
  },
  {
   "cell_type": "code",
   "execution_count": 16,
   "metadata": {},
   "outputs": [
    {
     "data": {
      "text/plain": [
       "(7419, 23)"
      ]
     },
     "execution_count": 16,
     "metadata": {},
     "output_type": "execute_result"
    }
   ],
   "source": [
    "#create a data frame of those sound complaints\n",
    "dfSound = df[(df[\"soundR\"] == True) | (df[\"noiseR\"] == True) | (df[\"soundT\"] == True) | (df[\"noiseT\"] == True)]\n",
    "dfSound.shape"
   ]
  },
  {
   "cell_type": "code",
   "execution_count": 17,
   "metadata": {},
   "outputs": [
    {
     "data": {
      "text/plain": [
       "<matplotlib.axes._subplots.AxesSubplot at 0x22b4b706898>"
      ]
     },
     "execution_count": 17,
     "metadata": {},
     "output_type": "execute_result"
    },
    {
     "data": {
      "image/png": "[encoded data removed]",
      "text/plain": [
       "<matplotlib.figure.Figure at 0x22b4b789ba8>"
      ]
     },
     "metadata": {},
     "output_type": "display_data"
    }
   ],
   "source": [
    "#ratings distribution\n",
    "import seaborn as sns\n",
    "sns.countplot(dfSound[\"subjectivity\"])"
   ]
  },
  {
   "cell_type": "code",
   "execution_count": 16,
   "metadata": {},
   "outputs": [
    {
     "data": {
      "text/plain": [
       "<matplotlib.text.Text at 0x253463d37b8>"
      ]
     },
     "execution_count": 16,
     "metadata": {},
     "output_type": "execute_result"
    },
    {
     "data": {
      "image/png": "[encoded data removed]",
      "text/plain": [
       "<matplotlib.figure.Figure at 0x253469b1f60>"
      ]
     },
     "metadata": {},
     "output_type": "display_data"
    }
   ],
   "source": [
    "sns.countplot(dfSound.experience)\n",
    "\n",
    "plt.title(\"Experience by presence of 'sound' or 'noise' in review or title\")"
   ]
  },
  {
   "cell_type": "code",
   "execution_count": 18,
   "metadata": {},
   "outputs": [
    {
     "name": "stdout",
     "output_type": "stream",
     "text": [
      "subjective    4794\n",
      "objective     2515\n",
      "unknown        110\n",
      "Name: subjectivity, dtype: int64\n",
      "positive    5988\n",
      "negative    1007\n",
      "neutral      424\n",
      "Name: polarity, dtype: int64\n"
     ]
    }
   ],
   "source": [
    "#check subjectivity and polarity in sound\n",
    "print(dfSound.subjectivity.value_counts())\n",
    "print(dfSound.polarity.value_counts())"
   ]
  },
  {
   "cell_type": "code",
   "execution_count": 19,
   "metadata": {},
   "outputs": [
    {
     "data": {
      "text/plain": [
       "<matplotlib.axes._subplots.AxesSubplot at 0x22b4b6cf7f0>"
      ]
     },
     "execution_count": 19,
     "metadata": {},
     "output_type": "execute_result"
    },
    {
     "data": {
      "image/png": "[encoded data removed]",
      "text/plain": [
       "<matplotlib.figure.Figure at 0x22b4b6bb048>"
      ]
     },
     "metadata": {},
     "output_type": "display_data"
    }
   ],
   "source": [
    "sns.countplot(dfSound.subjectivity)"
   ]
  },
  {
   "cell_type": "markdown",
   "metadata": {
    "collapsed": true
   },
   "source": [
    "## General Language Stuff"
   ]
  },
  {
   "cell_type": "code",
   "execution_count": 25,
   "metadata": {},
   "outputs": [
    {
     "data": {
      "text/plain": [
       "<matplotlib.axes._subplots.AxesSubplot at 0x22b4b608c18>"
      ]
     },
     "execution_count": 25,
     "metadata": {},
     "output_type": "execute_result"
    },
    {
     "data": {
      "image/png": "[encoded data removed]",
      "text/plain": [
       "<matplotlib.figure.Figure at 0x22b4b5d0470>"
      ]
     },
     "metadata": {},
     "output_type": "display_data"
    }
   ],
   "source": [
    "#General Review Length\n",
    "df[\"revLen\"] =  df[\"text\"].apply(len)\n",
    "sns.boxplot(df.revLen)"
   ]
  },
  {
   "cell_type": "code",
   "execution_count": 28,
   "metadata": {},
   "outputs": [
    {
     "name": "stderr",
     "output_type": "stream",
     "text": [
      "C:\\Users\\bryce\\Anaconda3\\lib\\site-packages\\ipykernel_launcher.py:2: SettingWithCopyWarning: \n",
      "A value is trying to be set on a copy of a slice from a DataFrame.\n",
      "Try using .loc[row_indexer,col_indexer] = value instead\n",
      "\n",
      "See the caveats in the documentation: http://pandas.pydata.org/pandas-docs/stable/indexing.html#indexing-view-versus-copy\n",
      "  \n"
     ]
    },
    {
     "data": {
      "text/plain": [
       "<matplotlib.axes._subplots.AxesSubplot at 0x22b49ae39e8>"
      ]
     },
     "execution_count": 28,
     "metadata": {},
     "output_type": "execute_result"
    },
    {
     "data": {
      "image/png": "[encoded data removed]",
      "text/plain": [
       "<matplotlib.figure.Figure at 0x22b49a3c518>"
      ]
     },
     "metadata": {},
     "output_type": "display_data"
    }
   ],
   "source": [
    "#Review Length of Sound\n",
    "dfSound[\"revLen\"] = dfSound.text.str.len()\n",
    "sns.boxplot(dfSound.revLen)"
   ]
  },
  {
   "cell_type": "code",
   "execution_count": 34,
   "metadata": {},
   "outputs": [
    {
     "data": {
      "text/plain": [
       "<seaborn.axisgrid.FacetGrid at 0x22b4d5a0358>"
      ]
     },
     "execution_count": 34,
     "metadata": {},
     "output_type": "execute_result"
    },
    {
     "data": {
      "image/png": "[encoded data removed]",
      "text/plain": [
       "<matplotlib.figure.Figure at 0x22b4d597828>"
      ]
     },
     "metadata": {},
     "output_type": "display_data"
    }
   ],
   "source": [
    "sns.lmplot(x = \"rating\", y = \"revLen\", data = df,\n",
    "           fit_reg = False)"
   ]
  },
  {
   "cell_type": "code",
   "execution_count": 38,
   "metadata": {},
   "outputs": [
    {
     "data": {
      "text/plain": [
       "<matplotlib.axes._subplots.AxesSubplot at 0x22b547f33c8>"
      ]
     },
     "execution_count": 38,
     "metadata": {},
     "output_type": "execute_result"
    },
    {
     "data": {
      "image/png": "[encoded data removed]",
      "text/plain": [
       "<matplotlib.figure.Figure at 0x22b547507b8>"
      ]
     },
     "metadata": {},
     "output_type": "display_data"
    }
   ],
   "source": [
    "import nltk\n",
    "\n",
    "def lexical_diversity(x):\n",
    "    return len(set(x)) / len(x)\n",
    "\n",
    "def lexical_percentage(x):\n",
    "    return x * 100\n",
    "\n",
    "df[\"lexDivers\"] = df.text.apply(lexical_diversity)\n",
    "df[\"lexDivers\"] =  df.lexDivers.apply(lexical_percentage)\n",
    "\n",
    "sns.boxplot(df.lexDivers)"
   ]
  },
  {
   "cell_type": "code",
   "execution_count": 43,
   "metadata": {
    "scrolled": true
   },
   "outputs": [
    {
     "data": {
      "text/plain": [
       "<seaborn.axisgrid.FacetGrid at 0x22b4d29e940>"
      ]
     },
     "execution_count": 43,
     "metadata": {},
     "output_type": "execute_result"
    },
    {
     "data": {
      "image/png": "[encoded data removed]",
      "text/plain": [
       "<matplotlib.figure.Figure at 0x22b4d29ec88>"
      ]
     },
     "metadata": {},
     "output_type": "display_data"
    }
   ],
   "source": [
    "#plot length to diversity to rating\n",
    "\n",
    "def ratingAdjuster(x):\n",
    "    if x >= 5:\n",
    "        return 5\n",
    "    if x == 0:\n",
    "        return 1\n",
    "    else:\n",
    "        return x\n",
    "\n",
    "df[\"rating2\"] = df.rating.apply(ratingAdjuster)\n",
    "\n",
    "sns.lmplot(x = \"revLen\", y = \"lexDivers\", data = df,\n",
    "           fit_reg = False, hue = \"rating2\")"
   ]
  },
  {
   "cell_type": "code",
   "execution_count": 40,
   "metadata": {},
   "outputs": [
    {
     "data": {
      "text/plain": [
       "<seaborn.axisgrid.FacetGrid at 0x22b54856cc0>"
      ]
     },
     "execution_count": 40,
     "metadata": {},
     "output_type": "execute_result"
    },
    {
     "data": {
      "image/png": "[encoded data removed]",
      "text/plain": [
       "<matplotlib.figure.Figure at 0x22b54856b70>"
      ]
     },
     "metadata": {},
     "output_type": "display_data"
    }
   ],
   "source": [
    "def lexicalDef(x):\n",
    "    if x < 33:\n",
    "        return \"low\"\n",
    "    if x >= 33 and x < 66:\n",
    "        return \"medium\"\n",
    "    else:\n",
    "        return \"high\"\n",
    "\n",
    "df[\"lexDivers2\"] = df.lexDivers.apply(lexicalDef)\n",
    "\n",
    "sns.lmplot(x = \"revLen\", y = \"rating\", data = df,\n",
    "           fit_reg = False, hue = \"lexDivers2\")"
   ]
  },
  {
   "cell_type": "code",
   "execution_count": null,
   "metadata": {
    "collapsed": true
   },
   "outputs": [],
   "source": []
  }
 ],
 "metadata": {
  "kernel_info": {
   "name": "python3"
  },
  "kernelspec": {
   "display_name": "Python 3",
   "language": "python",
   "name": "python3"
  },
  "language_info": {
   "codemirror_mode": {
    "name": "ipython",
    "version": 3
   },
   "file_extension": ".py",
   "mimetype": "text/x-python",
   "name": "python",
   "nbconvert_exporter": "python",
   "pygments_lexer": "ipython3",
   "version": "3.6.2"
  },
  "nteract": {
   "version": "0.8.4"
  }
 },
 "nbformat": 4,
 "nbformat_minor": 2
}
